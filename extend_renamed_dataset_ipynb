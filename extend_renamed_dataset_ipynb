import os
import re

# Path to the directory containing your images
directory = r'C:\Users\msi1\Videos\Computer_Vision_Solution\Autonomous_Shoe_Spotter\softmoc_data\Converse'

# Get a list of all files in the directory
files = os.listdir(directory)

# Filter out only the image files
image_files = [file for file in files if file.endswith(('.jpg', '.jpeg', '.png', '.bmp', '.gif'))]

# Sort the image files to ensure consistent renaming
image_files.sort()

# Extract the current highest index from already renamed files
max_index = 0
pattern = re.compile(r'converse(\d+)\.')

for file in image_files:
    match = pattern.match(file)
    if match:
        index = int(match.group(1))
        if index > max_index:
            max_index = index

# Loop through the image files and rename them
for filename in image_files:
    # Skip files already renamed
    if pattern.match(filename):
        continue

    # Increment the index for new filenames
    max_index += 1
    new_filename = f'converse{max_index}.{filename.split(".")[-1]}'
    new_filepath = os.path.join(directory, new_filename)

    # Rename the file
    os.rename(os.path.join(directory, filename), new_filepath)
    print(f'Renamed {filename} to {new_filename}')
