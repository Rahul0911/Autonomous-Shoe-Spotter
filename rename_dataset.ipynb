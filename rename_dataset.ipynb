{
 "cells": [
  {
   "cell_type": "code",
   "execution_count": 1,
   "metadata": {},
   "outputs": [
    {
     "name": "stdout",
     "output_type": "stream",
     "text": [
      "Renamed IMG_20240227_175701.jpg to bogs1.jpg\n",
      "Renamed IMG_20240227_175703.jpg to bogs2.jpg\n",
      "Renamed IMG_20240227_175705.jpg to bogs3.jpg\n",
      "Renamed IMG_20240227_175707.jpg to bogs4.jpg\n",
      "Renamed IMG_20240227_175708.jpg to bogs5.jpg\n",
      "Renamed IMG_20240227_175710.jpg to bogs6.jpg\n",
      "Renamed IMG_20240227_175714.jpg to bogs7.jpg\n",
      "Renamed IMG_20240227_175729.jpg to bogs8.jpg\n",
      "Renamed IMG_20240227_175748.jpg to bogs9.jpg\n",
      "Renamed IMG_20240227_175752.jpg to bogs10.jpg\n",
      "Renamed IMG_20240227_175755.jpg to bogs11.jpg\n",
      "Renamed IMG_20240227_175759.jpg to bogs12.jpg\n",
      "Renamed IMG_20240227_175802.jpg to bogs13.jpg\n",
      "Renamed IMG_20240227_175805.jpg to bogs14.jpg\n",
      "Renamed IMG_20240227_175807.jpg to bogs15.jpg\n",
      "Renamed IMG_20240227_175811.jpg to bogs16.jpg\n",
      "Renamed IMG_20240227_175813.jpg to bogs17.jpg\n",
      "Renamed IMG_20240227_175816.jpg to bogs18.jpg\n",
      "Renamed IMG_20240227_175817.jpg to bogs19.jpg\n",
      "Renamed IMG_20240227_175820.jpg to bogs20.jpg\n",
      "Renamed IMG_20240227_175824.jpg to bogs21.jpg\n",
      "Renamed IMG_20240227_175826.jpg to bogs22.jpg\n",
      "Renamed IMG_20240227_175828.jpg to bogs23.jpg\n",
      "Renamed IMG_20240227_175833.jpg to bogs24.jpg\n",
      "Renamed IMG_20240227_175855.jpg to bogs25.jpg\n",
      "Renamed IMG_20240227_183141.jpg to bogs26.jpg\n",
      "Renamed IMG_20240227_183143.jpg to bogs27.jpg\n",
      "Renamed IMG_20240227_183145.jpg to bogs28.jpg\n",
      "Renamed IMG_20240227_183147.jpg to bogs29.jpg\n",
      "Renamed IMG_20240227_183150.jpg to bogs30.jpg\n",
      "Renamed IMG_20240227_183152.jpg to bogs31.jpg\n",
      "Renamed IMG_20240227_183156.jpg to bogs32.jpg\n",
      "Renamed IMG_20240227_183202.jpg to bogs33.jpg\n",
      "Renamed IMG_20240227_183204.jpg to bogs34.jpg\n",
      "Renamed IMG_20240227_183209.jpg to bogs35.jpg\n",
      "Renamed IMG_20240227_183213.jpg to bogs36.jpg\n",
      "Renamed IMG_20240227_183223.jpg to bogs37.jpg\n",
      "Renamed IMG_20240227_183233.jpg to bogs38.jpg\n"
     ]
    }
   ],
   "source": [
    "import os\n",
    "\n",
    "# Path to the directory containing your images\n",
    "directory = r'C:\\Users\\msi1\\Videos\\Computer_Vision_Solution\\Autonomous_Shoe_Spotter\\sample_data\\Bogs'\n",
    "\n",
    "# Get a list of all files in the directory\n",
    "files = os.listdir(directory)\n",
    "\n",
    "# Filter out only the image files\n",
    "image_files = [file for file in files if file.endswith(('.jpg', '.jpeg', '.png', '.bmp', '.gif'))]\n",
    "\n",
    "# Sort the image files to ensure consistent renaming\n",
    "image_files.sort()\n",
    "\n",
    "# Loop through the image files and rename them\n",
    "for i, filename in enumerate(image_files):\n",
    "    # Create the new filename\n",
    "    new_filename = f'bogs{i+1}.{filename.split(\".\")[-1]}'  # Assuming all files have extensions\n",
    "    \n",
    "    # Rename the file\n",
    "    os.rename(os.path.join(directory, filename), os.path.join(directory, new_filename))\n",
    "    print(f'Renamed {filename} to {new_filename}')\n"
   ]
  },
  {
   "cell_type": "code",
   "execution_count": null,
   "metadata": {},
   "outputs": [],
   "source": []
  }
 ],
 "metadata": {
  "kernelspec": {
   "display_name": "venv",
   "language": "python",
   "name": "python3"
  },
  "language_info": {
   "codemirror_mode": {
    "name": "ipython",
    "version": 3
   },
   "file_extension": ".py",
   "mimetype": "text/x-python",
   "name": "python",
   "nbconvert_exporter": "python",
   "pygments_lexer": "ipython3",
   "version": "3.10.8"
  }
 },
 "nbformat": 4,
 "nbformat_minor": 2
}
