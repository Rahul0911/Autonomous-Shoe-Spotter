{
 "cells": [
  {
   "cell_type": "code",
   "execution_count": 1,
   "metadata": {},
   "outputs": [],
   "source": [
    "import numpy as np\n",
    "import cv2\n",
    "import os\n",
    "import pytesseract\n",
    "from PIL import Image "
   ]
  },
  {
   "cell_type": "markdown",
   "metadata": {},
   "source": [
    "### Using Pytessaract"
   ]
  },
  {
   "cell_type": "code",
   "execution_count": 2,
   "metadata": {},
   "outputs": [],
   "source": [
    "pytesseract.pytesseract.tesseract_cmd = r'C:\\Users\\msi1\\AppData\\Local\\Programs\\Tesseract-OCR\\tesseract.exe'"
   ]
  },
  {
   "cell_type": "code",
   "execution_count": null,
   "metadata": {},
   "outputs": [],
   "source": [
    "if not os.path.exists(\"video_frames\"):\n",
    "    os.makedirs(\"video_frames\")\n",
    "\n",
    "#create our video path\n",
    "test_video = cv2.VideoCapture(r'C:\\Users\\msi1\\Videos\\Computer_Vision_Solution\\Autonomous_Shoe_Spotter\\runs\\detect\\predict\\0.avi')\n",
    "\n",
    "index = 0\n",
    "\n",
    "while test_video.isOpened():\n",
    "    ret, frame = test_video.read()\n",
    "    if not ret:\n",
    "        break\n",
    "\n",
    "#assign a name for the frames\n",
    "    name = \"./image_frames/frame\" + str(index) + \".jpg\"\n",
    "\n",
    "#Assign out print statements\n",
    "    print(\"Extracting frames...\" + name)\n",
    "    cv2.imwrite(name, frame)\n",
    "    index += 1\n",
    "    if cv2.waitKey(1) & 0xFF == ord('q'):\n",
    "        break\n",
    "\n",
    "test_video.release()\n",
    "cv2.destroyAllWindows()"
   ]
  }
 ],
 "metadata": {
  "kernelspec": {
   "display_name": "venv",
   "language": "python",
   "name": "python3"
  },
  "language_info": {
   "codemirror_mode": {
    "name": "ipython",
    "version": 3
   },
   "file_extension": ".py",
   "mimetype": "text/x-python",
   "name": "python",
   "nbconvert_exporter": "python",
   "pygments_lexer": "ipython3",
   "version": "3.10.8"
  }
 },
 "nbformat": 4,
 "nbformat_minor": 2
}
