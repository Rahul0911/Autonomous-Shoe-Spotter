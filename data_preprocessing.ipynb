{
 "cells": [
  {
   "cell_type": "markdown",
   "metadata": {},
   "source": [
    "# Setup"
   ]
  },
  {
   "cell_type": "code",
   "execution_count": 10,
   "metadata": {},
   "outputs": [],
   "source": [
    "import os\n",
    "os.environ[\"KERAS_BACKEND\"] = \"tensorflow\"\n",
    "import keras\n",
    "from keras import ops, layers\n",
    "import tensorflow as tf\n",
    "import matplotlib.pyplot as plt\n",
    "import numpy as np"
   ]
  },
  {
   "cell_type": "markdown",
   "metadata": {},
   "source": [
    "# Define Hyperparameters"
   ]
  },
  {
   "cell_type": "code",
   "execution_count": 11,
   "metadata": {},
   "outputs": [],
   "source": [
    "INP_SIZE = (4000, 3000)\n",
    "TARGET_SIZE = (150, 150)\n",
    "INTERPOLATION = 'bilinear'\n",
    "\n",
    "AUTO = tf.data.AUTOTUNE\n",
    "BATCH_SIZE = 64\n",
    "EPOCHS = 5"
   ]
  },
  {
   "cell_type": "markdown",
   "metadata": {},
   "source": [
    "## Splitting the sample data"
   ]
  },
  {
   "cell_type": "code",
   "execution_count": 1,
   "metadata": {},
   "outputs": [],
   "source": [
    "import os\n",
    "from sklearn.model_selection import train_test_split\n",
    "import shutil\n",
    "\n",
    "# Define the root directory of your dataset\n",
    "root_directory = r'C:\\Users\\msi1\\Videos\\Computer_Vision_Solution\\Autonomous_Shoe_Spotter\\sample_data'\n",
    "\n",
    "# Define the subdirectories containing your classes\n",
    "class_directories = [os.path.join(root_directory, d) for d in os.listdir(root_directory) if os.path.isdir(os.path.join(root_directory, d))]\n",
    "\n",
    "# Initialize lists to store file paths for training and validation sets\n",
    "train_files = []\n",
    "val_files = []\n",
    "\n",
    "# Split each class directory into train and validation sets\n",
    "for class_dir in class_directories:\n",
    "    # List all files in the current class directory\n",
    "    files = [os.path.join(class_dir, f) for f in os.listdir(class_dir) if os.path.isfile(os.path.join(class_dir, f))]\n",
    "    \n",
    "    # Split the files into train and validation sets\n",
    "    train_files_class, val_files_class = train_test_split(files, test_size=0.3, random_state=42)  # Adjust test_size as needed\n",
    "    \n",
    "    # Append the split files to the respective lists\n",
    "    train_files.extend(train_files_class)\n",
    "    val_files.extend(val_files_class)\n",
    "\n",
    "# Define directories for training and validation sets\n",
    "train_directory = os.path.join(root_directory, 'training_data')\n",
    "val_directory = os.path.join(root_directory, 'validation_data')\n",
    "\n",
    "# Create train and validation directories if they don't exist\n",
    "os.makedirs(train_directory, exist_ok=True)\n",
    "os.makedirs(val_directory, exist_ok=True)\n",
    "\n",
    "# Copy files to train and validation directories\n",
    "for file in train_files:\n",
    "    shutil.copy(file, os.path.join(train_directory, os.path.basename(file)))\n",
    "\n",
    "for file in val_files:\n",
    "    shutil.copy(file, os.path.join(val_directory, os.path.basename(file)))\n"
   ]
  },
  {
   "cell_type": "code",
   "execution_count": null,
   "metadata": {},
   "outputs": [],
   "source": []
  }
 ],
 "metadata": {
  "kernelspec": {
   "display_name": "venv",
   "language": "python",
   "name": "python3"
  },
  "language_info": {
   "codemirror_mode": {
    "name": "ipython",
    "version": 3
   },
   "file_extension": ".py",
   "mimetype": "text/x-python",
   "name": "python",
   "nbconvert_exporter": "python",
   "pygments_lexer": "ipython3",
   "version": "3.10.8"
  }
 },
 "nbformat": 4,
 "nbformat_minor": 2
}
