{
 "cells": [
  {
   "cell_type": "code",
   "execution_count": 1,
   "metadata": {},
   "outputs": [],
   "source": [
    "import os\n",
    "import re\n",
    "\n",
    "# Path to the directory containing your images\n",
    "directory = r'C:\\Users\\msi1\\Videos\\Computer_Vision_Solution\\Autonomous_Shoe_Spotter\\softmoc_data\\Puma'\n",
    "\n",
    "# Get a list of all files in the directory\n",
    "files = os.listdir(directory)\n",
    "\n",
    "# Filter out only the image files\n",
    "image_files = [file for file in files if file.endswith(('.jpg', '.jpeg', '.png', '.bmp', '.gif'))]\n",
    "\n",
    "# Sort the image files to ensure consistent renaming\n",
    "image_files.sort()\n",
    "\n",
    "# Extract the current highest index from already renamed files\n",
    "max_index = 0\n",
    "pattern = re.compile(r'puma(\\d+)\\.')\n",
    "\n",
    "for file in image_files:\n",
    "    match = pattern.match(file)\n",
    "    if match:\n",
    "        index = int(match.group(1))\n",
    "        if index > max_index:\n",
    "            max_index = index\n",
    "\n",
    "# Loop through the image files and rename them\n",
    "for filename in image_files:\n",
    "    # Skip files already renamed\n",
    "    if pattern.match(filename):\n",
    "        continue\n",
    "\n",
    "    # Increment the index for new filenames\n",
    "    max_index += 1\n",
    "    new_filename = f'puma{max_index}.{filename.split(\".\")[-1]}'\n",
    "    new_filepath = os.path.join(directory, new_filename)\n",
    "\n",
    "    # Rename the file\n",
    "    os.rename(os.path.join(directory, filename), new_filepath)\n",
    "    print(f'Renamed {filename} to {new_filename}')\n"
   ]
  }
 ],
 "metadata": {
  "kernelspec": {
   "display_name": "venv",
   "language": "python",
   "name": "python3"
  },
  "language_info": {
   "codemirror_mode": {
    "name": "ipython",
    "version": 3
   },
   "file_extension": ".py",
   "mimetype": "text/x-python",
   "name": "python",
   "nbconvert_exporter": "python",
   "pygments_lexer": "ipython3",
   "version": "3.10.8"
  }
 },
 "nbformat": 4,
 "nbformat_minor": 2
}
